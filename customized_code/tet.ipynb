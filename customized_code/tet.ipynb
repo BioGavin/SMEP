{
 "cells": [
  {
   "cell_type": "code",
   "execution_count": 7,
   "metadata": {
    "collapsed": true
   },
   "outputs": [
    {
     "name": "stdout",
     "output_type": "stream",
     "text": [
      "4.256492964840946 3\n",
      "1.4188309882803154\n"
     ]
    }
   ],
   "source": [
    "import math\n",
    "\n",
    "log_num = 0\n",
    "count = 0\n",
    "for i in [0.1, 0.3, 0.001]:\n",
    "    log_num += math.pow(10, i)\n",
    "    count += 1\n",
    "print(float(log_num / count))"
   ]
  },
  {
   "cell_type": "code",
   "execution_count": 9,
   "outputs": [
    {
     "name": "stdout",
     "output_type": "stream",
     "text": [
      "0.031072325059538594\n"
     ]
    }
   ],
   "source": [
    "import math\n",
    "\n",
    "num = 1\n",
    "count = 0\n",
    "for i in [0.1, 0.3, 0.001]:\n",
    "    num *= i\n",
    "    count += 1\n",
    "print(pow(num, 1/count))"
   ],
   "metadata": {
    "collapsed": false,
    "pycharm": {
     "name": "#%%\n"
    }
   }
  },
  {
   "cell_type": "code",
   "execution_count": 8,
   "outputs": [
    {
     "data": {
      "text/plain": "2.0"
     },
     "execution_count": 8,
     "metadata": {},
     "output_type": "execute_result"
    }
   ],
   "source": [
    "math.sqrt(4)"
   ],
   "metadata": {
    "collapsed": false,
    "pycharm": {
     "name": "#%%\n"
    }
   }
  }
 ],
 "metadata": {
  "kernelspec": {
   "display_name": "Python 3",
   "language": "python",
   "name": "python3"
  },
  "language_info": {
   "codemirror_mode": {
    "name": "ipython",
    "version": 2
   },
   "file_extension": ".py",
   "mimetype": "text/x-python",
   "name": "python",
   "nbconvert_exporter": "python",
   "pygments_lexer": "ipython2",
   "version": "2.7.6"
  }
 },
 "nbformat": 4,
 "nbformat_minor": 0
}