{
 "cells": [
  {
   "cell_type": "code",
   "execution_count": 7,
   "metadata": {
    "collapsed": true
   },
   "outputs": [
    {
     "data": {
      "text/plain": "         sequence          uM\n0        PFKISIHL   67.057837\n1    KRIVKLILKWLR    2.553626\n2        RIWVIWRR   13.506669\n3   WGIRRILKYGKRS   39.184473\n4    ILRWPWWPWRRK    4.493877\n..            ...         ...\n62  FLSTIWNGIKSLL    5.361571\n63  FLGALWNVAKSVF    5.509262\n64  FLSTLWNAAKSIF    5.340454\n65  FIPLVSGLFSRLL   21.884831\n66  VIPIVSGLLSSLL  390.511800\n\n[67 rows x 2 columns]",
      "text/html": "<div>\n<style scoped>\n    .dataframe tbody tr th:only-of-type {\n        vertical-align: middle;\n    }\n\n    .dataframe tbody tr th {\n        vertical-align: top;\n    }\n\n    .dataframe thead th {\n        text-align: right;\n    }\n</style>\n<table border=\"1\" class=\"dataframe\">\n  <thead>\n    <tr style=\"text-align: right;\">\n      <th></th>\n      <th>sequence</th>\n      <th>uM</th>\n    </tr>\n  </thead>\n  <tbody>\n    <tr>\n      <th>0</th>\n      <td>PFKISIHL</td>\n      <td>67.057837</td>\n    </tr>\n    <tr>\n      <th>1</th>\n      <td>KRIVKLILKWLR</td>\n      <td>2.553626</td>\n    </tr>\n    <tr>\n      <th>2</th>\n      <td>RIWVIWRR</td>\n      <td>13.506669</td>\n    </tr>\n    <tr>\n      <th>3</th>\n      <td>WGIRRILKYGKRS</td>\n      <td>39.184473</td>\n    </tr>\n    <tr>\n      <th>4</th>\n      <td>ILRWPWWPWRRK</td>\n      <td>4.493877</td>\n    </tr>\n    <tr>\n      <th>...</th>\n      <td>...</td>\n      <td>...</td>\n    </tr>\n    <tr>\n      <th>62</th>\n      <td>FLSTIWNGIKSLL</td>\n      <td>5.361571</td>\n    </tr>\n    <tr>\n      <th>63</th>\n      <td>FLGALWNVAKSVF</td>\n      <td>5.509262</td>\n    </tr>\n    <tr>\n      <th>64</th>\n      <td>FLSTLWNAAKSIF</td>\n      <td>5.340454</td>\n    </tr>\n    <tr>\n      <th>65</th>\n      <td>FIPLVSGLFSRLL</td>\n      <td>21.884831</td>\n    </tr>\n    <tr>\n      <th>66</th>\n      <td>VIPIVSGLLSSLL</td>\n      <td>390.511800</td>\n    </tr>\n  </tbody>\n</table>\n<p>67 rows × 2 columns</p>\n</div>"
     },
     "execution_count": 7,
     "metadata": {},
     "output_type": "execute_result"
    }
   ],
   "source": [
    "import pandas as pd\n",
    "new_data_67 = pd.read_csv(\"../data/origin_data/new_data_67.csv\")\n",
    "new_data_67"
   ]
  },
  {
   "cell_type": "code",
   "execution_count": 8,
   "outputs": [
    {
     "data": {
      "text/plain": "         sequence       value\n0        PFKISIHL   67.057837\n1    KRIVKLILKWLR    2.553626\n2        RIWVIWRR   13.506669\n3   WGIRRILKYGKRS   39.184473\n4    ILRWPWWPWRRK    4.493877\n..            ...         ...\n62  FLSTIWNGIKSLL    5.361571\n63  FLGALWNVAKSVF    5.509262\n64  FLSTLWNAAKSIF    5.340454\n65  FIPLVSGLFSRLL   21.884831\n66  VIPIVSGLLSSLL  390.511800\n\n[67 rows x 2 columns]",
      "text/html": "<div>\n<style scoped>\n    .dataframe tbody tr th:only-of-type {\n        vertical-align: middle;\n    }\n\n    .dataframe tbody tr th {\n        vertical-align: top;\n    }\n\n    .dataframe thead th {\n        text-align: right;\n    }\n</style>\n<table border=\"1\" class=\"dataframe\">\n  <thead>\n    <tr style=\"text-align: right;\">\n      <th></th>\n      <th>sequence</th>\n      <th>value</th>\n    </tr>\n  </thead>\n  <tbody>\n    <tr>\n      <th>0</th>\n      <td>PFKISIHL</td>\n      <td>67.057837</td>\n    </tr>\n    <tr>\n      <th>1</th>\n      <td>KRIVKLILKWLR</td>\n      <td>2.553626</td>\n    </tr>\n    <tr>\n      <th>2</th>\n      <td>RIWVIWRR</td>\n      <td>13.506669</td>\n    </tr>\n    <tr>\n      <th>3</th>\n      <td>WGIRRILKYGKRS</td>\n      <td>39.184473</td>\n    </tr>\n    <tr>\n      <th>4</th>\n      <td>ILRWPWWPWRRK</td>\n      <td>4.493877</td>\n    </tr>\n    <tr>\n      <th>...</th>\n      <td>...</td>\n      <td>...</td>\n    </tr>\n    <tr>\n      <th>62</th>\n      <td>FLSTIWNGIKSLL</td>\n      <td>5.361571</td>\n    </tr>\n    <tr>\n      <th>63</th>\n      <td>FLGALWNVAKSVF</td>\n      <td>5.509262</td>\n    </tr>\n    <tr>\n      <th>64</th>\n      <td>FLSTLWNAAKSIF</td>\n      <td>5.340454</td>\n    </tr>\n    <tr>\n      <th>65</th>\n      <td>FIPLVSGLFSRLL</td>\n      <td>21.884831</td>\n    </tr>\n    <tr>\n      <th>66</th>\n      <td>VIPIVSGLLSSLL</td>\n      <td>390.511800</td>\n    </tr>\n  </tbody>\n</table>\n<p>67 rows × 2 columns</p>\n</div>"
     },
     "execution_count": 8,
     "metadata": {},
     "output_type": "execute_result"
    }
   ],
   "source": [
    "new_data_67.rename(columns={\"sequence\": \"sequence\", \"uM\": \"value\"}, inplace=True)\n",
    "new_data_67"
   ],
   "metadata": {
    "collapsed": false,
    "pycharm": {
     "name": "#%%\n"
    }
   }
  },
  {
   "cell_type": "code",
   "execution_count": 9,
   "outputs": [],
   "source": [
    "new_data_67.to_csv(\"../data/filtered_data/experimental.csv\", index=False)"
   ],
   "metadata": {
    "collapsed": false,
    "pycharm": {
     "name": "#%%\n"
    }
   }
  }
 ],
 "metadata": {
  "kernelspec": {
   "display_name": "Python 3",
   "language": "python",
   "name": "python3"
  },
  "language_info": {
   "codemirror_mode": {
    "name": "ipython",
    "version": 2
   },
   "file_extension": ".py",
   "mimetype": "text/x-python",
   "name": "python",
   "nbconvert_exporter": "python",
   "pygments_lexer": "ipython2",
   "version": "2.7.6"
  }
 },
 "nbformat": 4,
 "nbformat_minor": 0
}