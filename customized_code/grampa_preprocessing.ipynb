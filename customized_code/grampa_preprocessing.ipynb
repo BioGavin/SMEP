{
 "cells": [
  {
   "cell_type": "markdown",
   "source": [
    "# Import data"
   ],
   "metadata": {
    "collapsed": false
   }
  },
  {
   "cell_type": "code",
   "execution_count": 192,
   "metadata": {
    "collapsed": true
   },
   "outputs": [
    {
     "data": {
      "text/plain": "            bacterium modifications  \\\n0         B. subtilis   [disulfide]   \n1       S. agalactiae   [disulfide]   \n2           S. aureus   [disulfide]   \n3        S. pneumonia   [disulfide]   \n4      S. epidermidis   [disulfide]   \n...               ...           ...   \n62489     C. albicans            []   \n62490       S. aureus            []   \n62491         E. coli            []   \n62492     B. subtilis            []   \n62493     C. albicans            []   \n\n                                         sequence     strain unit  \\\n0                     GLPRKILCAIAKKKGKCKGPLKLVCKC        NaN   uM   \n1      GFGCPGDAYQCSEHCRALGGGRTGGYCAGPWYLGHPTCTCSF        NaN   uM   \n2      GFGCPGDAYQCSEHCRALGGGRTGGYCAGPWYLGHPTCTCSF  ATCC29213   uM   \n3      GFGCPGDAYQCSEHCRALGGGRTGGYCAGPWYLGHPTCTCSF  ATCC49619   uM   \n4      GFGCPGDAYQCSEHCRALGGGRTGGYCAGPWYLGHPTCTCSF  ATCC12228   uM   \n...                                           ...        ...  ...   \n62489                                LNKGAILKHIIK        NaN   uM   \n62490                            GCSRWIIGIHGQICRD        NaN   uM   \n62491                            GCSRWIIGIHGQICRD        NaN   uM   \n62492                            GCSRWIIGIHGQICRD        NaN   uM   \n62493                            GCSRWIIGIHGQICRD        NaN   uM   \n\n                                              url_source     value  \\\n0      http://aps.unmc.edu/AP/database/query_output.p... -0.397940   \n1      http://aps.unmc.edu/AP/database/query_output.p... -1.859819   \n2      http://aps.unmc.edu/AP/database/query_output.p...  0.566150   \n3      http://aps.unmc.edu/AP/database/query_output.p... -1.240030   \n4      http://aps.unmc.edu/AP/database/query_output.p...  0.566150   \n...                                                  ...       ...   \n62489  http://www.yadamp.unisa.it/showItem.aspx?yadam...  2.000000   \n62490  http://www.yadamp.unisa.it/showItem.aspx?yadam...  1.491362   \n62491  http://www.yadamp.unisa.it/showItem.aspx?yadam...  2.301030   \n62492  http://www.yadamp.unisa.it/showItem.aspx?yadam...  0.602060   \n62493  http://www.yadamp.unisa.it/showItem.aspx?yadam...  0.602060   \n\n       is_modified  has_unusual_modification  has_cterminal_amidation  \\\n0             True                     False                    False   \n1             True                     False                    False   \n2             True                     False                    False   \n3             True                     False                    False   \n4             True                     False                    False   \n...            ...                       ...                      ...   \n62489        False                     False                    False   \n62490        False                     False                    False   \n62491        False                     False                    False   \n62492        False                     False                    False   \n62493        False                     False                    False   \n\n       datasource_has_modifications database  \n0                              True      APD  \n1                              True      APD  \n2                              True      APD  \n3                              True      APD  \n4                              True      APD  \n...                             ...      ...  \n62489                         False   YADAMP  \n62490                         False   YADAMP  \n62491                         False   YADAMP  \n62492                         False   YADAMP  \n62493                         False   YADAMP  \n\n[51345 rows x 12 columns]",
      "text/html": "<div>\n<style scoped>\n    .dataframe tbody tr th:only-of-type {\n        vertical-align: middle;\n    }\n\n    .dataframe tbody tr th {\n        vertical-align: top;\n    }\n\n    .dataframe thead th {\n        text-align: right;\n    }\n</style>\n<table border=\"1\" class=\"dataframe\">\n  <thead>\n    <tr style=\"text-align: right;\">\n      <th></th>\n      <th>bacterium</th>\n      <th>modifications</th>\n      <th>sequence</th>\n      <th>strain</th>\n      <th>unit</th>\n      <th>url_source</th>\n      <th>value</th>\n      <th>is_modified</th>\n      <th>has_unusual_modification</th>\n      <th>has_cterminal_amidation</th>\n      <th>datasource_has_modifications</th>\n      <th>database</th>\n    </tr>\n  </thead>\n  <tbody>\n    <tr>\n      <th>0</th>\n      <td>B. subtilis</td>\n      <td>[disulfide]</td>\n      <td>GLPRKILCAIAKKKGKCKGPLKLVCKC</td>\n      <td>NaN</td>\n      <td>uM</td>\n      <td>http://aps.unmc.edu/AP/database/query_output.p...</td>\n      <td>-0.397940</td>\n      <td>True</td>\n      <td>False</td>\n      <td>False</td>\n      <td>True</td>\n      <td>APD</td>\n    </tr>\n    <tr>\n      <th>1</th>\n      <td>S. agalactiae</td>\n      <td>[disulfide]</td>\n      <td>GFGCPGDAYQCSEHCRALGGGRTGGYCAGPWYLGHPTCTCSF</td>\n      <td>NaN</td>\n      <td>uM</td>\n      <td>http://aps.unmc.edu/AP/database/query_output.p...</td>\n      <td>-1.859819</td>\n      <td>True</td>\n      <td>False</td>\n      <td>False</td>\n      <td>True</td>\n      <td>APD</td>\n    </tr>\n    <tr>\n      <th>2</th>\n      <td>S. aureus</td>\n      <td>[disulfide]</td>\n      <td>GFGCPGDAYQCSEHCRALGGGRTGGYCAGPWYLGHPTCTCSF</td>\n      <td>ATCC29213</td>\n      <td>uM</td>\n      <td>http://aps.unmc.edu/AP/database/query_output.p...</td>\n      <td>0.566150</td>\n      <td>True</td>\n      <td>False</td>\n      <td>False</td>\n      <td>True</td>\n      <td>APD</td>\n    </tr>\n    <tr>\n      <th>3</th>\n      <td>S. pneumonia</td>\n      <td>[disulfide]</td>\n      <td>GFGCPGDAYQCSEHCRALGGGRTGGYCAGPWYLGHPTCTCSF</td>\n      <td>ATCC49619</td>\n      <td>uM</td>\n      <td>http://aps.unmc.edu/AP/database/query_output.p...</td>\n      <td>-1.240030</td>\n      <td>True</td>\n      <td>False</td>\n      <td>False</td>\n      <td>True</td>\n      <td>APD</td>\n    </tr>\n    <tr>\n      <th>4</th>\n      <td>S. epidermidis</td>\n      <td>[disulfide]</td>\n      <td>GFGCPGDAYQCSEHCRALGGGRTGGYCAGPWYLGHPTCTCSF</td>\n      <td>ATCC12228</td>\n      <td>uM</td>\n      <td>http://aps.unmc.edu/AP/database/query_output.p...</td>\n      <td>0.566150</td>\n      <td>True</td>\n      <td>False</td>\n      <td>False</td>\n      <td>True</td>\n      <td>APD</td>\n    </tr>\n    <tr>\n      <th>...</th>\n      <td>...</td>\n      <td>...</td>\n      <td>...</td>\n      <td>...</td>\n      <td>...</td>\n      <td>...</td>\n      <td>...</td>\n      <td>...</td>\n      <td>...</td>\n      <td>...</td>\n      <td>...</td>\n      <td>...</td>\n    </tr>\n    <tr>\n      <th>62489</th>\n      <td>C. albicans</td>\n      <td>[]</td>\n      <td>LNKGAILKHIIK</td>\n      <td>NaN</td>\n      <td>uM</td>\n      <td>http://www.yadamp.unisa.it/showItem.aspx?yadam...</td>\n      <td>2.000000</td>\n      <td>False</td>\n      <td>False</td>\n      <td>False</td>\n      <td>False</td>\n      <td>YADAMP</td>\n    </tr>\n    <tr>\n      <th>62490</th>\n      <td>S. aureus</td>\n      <td>[]</td>\n      <td>GCSRWIIGIHGQICRD</td>\n      <td>NaN</td>\n      <td>uM</td>\n      <td>http://www.yadamp.unisa.it/showItem.aspx?yadam...</td>\n      <td>1.491362</td>\n      <td>False</td>\n      <td>False</td>\n      <td>False</td>\n      <td>False</td>\n      <td>YADAMP</td>\n    </tr>\n    <tr>\n      <th>62491</th>\n      <td>E. coli</td>\n      <td>[]</td>\n      <td>GCSRWIIGIHGQICRD</td>\n      <td>NaN</td>\n      <td>uM</td>\n      <td>http://www.yadamp.unisa.it/showItem.aspx?yadam...</td>\n      <td>2.301030</td>\n      <td>False</td>\n      <td>False</td>\n      <td>False</td>\n      <td>False</td>\n      <td>YADAMP</td>\n    </tr>\n    <tr>\n      <th>62492</th>\n      <td>B. subtilis</td>\n      <td>[]</td>\n      <td>GCSRWIIGIHGQICRD</td>\n      <td>NaN</td>\n      <td>uM</td>\n      <td>http://www.yadamp.unisa.it/showItem.aspx?yadam...</td>\n      <td>0.602060</td>\n      <td>False</td>\n      <td>False</td>\n      <td>False</td>\n      <td>False</td>\n      <td>YADAMP</td>\n    </tr>\n    <tr>\n      <th>62493</th>\n      <td>C. albicans</td>\n      <td>[]</td>\n      <td>GCSRWIIGIHGQICRD</td>\n      <td>NaN</td>\n      <td>uM</td>\n      <td>http://www.yadamp.unisa.it/showItem.aspx?yadam...</td>\n      <td>0.602060</td>\n      <td>False</td>\n      <td>False</td>\n      <td>False</td>\n      <td>False</td>\n      <td>YADAMP</td>\n    </tr>\n  </tbody>\n</table>\n<p>51345 rows × 12 columns</p>\n</div>"
     },
     "execution_count": 192,
     "metadata": {},
     "output_type": "execute_result"
    }
   ],
   "source": [
    "import pandas as pd\n",
    "\n",
    "grampa = pd.read_csv(\"../data/origin_data/grampa.csv\", index_col=0)\n",
    "grampa"
   ]
  },
  {
   "cell_type": "markdown",
   "source": [
    "# 1. Standardized c-terminal amidation filtering"
   ],
   "metadata": {
    "collapsed": false
   }
  },
  {
   "cell_type": "code",
   "execution_count": 193,
   "outputs": [
    {
     "data": {
      "text/plain": "           bacterium           modifications                   sequence  \\\n35     P. aeruginosa            [C-Terminal]              FLSTLWNAAKSIF   \n36     S. agalactiae            [C-Terminal]              FLSTLWNAAKSIF   \n37       B. subtilis            [C-Terminal]              FLSTLWNAAKSIF   \n38           E. coli            [C-Terminal]              FLSTLWNAAKSIF   \n39          S. typhi            [C-Terminal]              FLSTLWNAAKSIF   \n...              ...                     ...                        ...   \n58004        E. coli  [C-Terminal Amidation]  GLLSSLSSVAKHVLPHVVPVIAEHL   \n58005     L. innocua  [C-Terminal Amidation]  GLLSSLSSVAKHVLPHVVPVIAEHL   \n58006      L. lactis  [C-Terminal Amidation]  GLLSSLSSVAKHVLPHVVPVIAEHL   \n58067     E. cloacae  [C-Terminal Amidation]            IIGHLIKTALGFLGL   \n58068        E. coli  [C-Terminal Amidation]            IIGHLIKTALGFLGL   \n\n           strain unit                                         url_source  \\\n35      ATCC 9027   uM  http://aps.unmc.edu/AP/database/query_output.p...   \n36            NaN   uM  http://aps.unmc.edu/AP/database/query_output.p...   \n37      ATCC 6633   uM  http://aps.unmc.edu/AP/database/query_output.p...   \n38     ATCC 25922   uM  http://aps.unmc.edu/AP/database/query_output.p...   \n39      ATCC 6399   uM  http://aps.unmc.edu/AP/database/query_output.p...   \n...           ...  ...                                                ...   \n58004         NaN   uM  http://dramp.cpu-bioinfor.org/browse/All_Infor...   \n58005         NaN   uM  http://dramp.cpu-bioinfor.org/browse/All_Infor...   \n58006         NaN   uM  http://dramp.cpu-bioinfor.org/browse/All_Infor...   \n58067  ATCC 13047   uM  http://dramp.cpu-bioinfor.org/browse/All_Infor...   \n58068       ATCC3   uM  http://dramp.cpu-bioinfor.org/browse/All_Infor...   \n\n          value  is_modified  has_unusual_modification  \\\n35     1.150515         True                     False   \n36     1.150515         True                     False   \n37     1.150515         True                     False   \n38     1.150515         True                     False   \n39     1.150515         True                     False   \n...         ...          ...                       ...   \n58004  1.283485         True                     False   \n58005  1.584515         True                     False   \n58006  0.663696         True                     False   \n58067  2.000000         True                     False   \n58068  2.000000         True                     False   \n\n       has_cterminal_amidation  datasource_has_modifications database  \n35                        True                          True      APD  \n36                        True                          True      APD  \n37                        True                          True      APD  \n38                        True                          True      APD  \n39                        True                          True      APD  \n...                        ...                           ...      ...  \n58004                     True                          True    DRAMP  \n58005                     True                          True    DRAMP  \n58006                     True                          True    DRAMP  \n58067                     True                          True    DRAMP  \n58068                     True                          True    DRAMP  \n\n[18741 rows x 12 columns]",
      "text/html": "<div>\n<style scoped>\n    .dataframe tbody tr th:only-of-type {\n        vertical-align: middle;\n    }\n\n    .dataframe tbody tr th {\n        vertical-align: top;\n    }\n\n    .dataframe thead th {\n        text-align: right;\n    }\n</style>\n<table border=\"1\" class=\"dataframe\">\n  <thead>\n    <tr style=\"text-align: right;\">\n      <th></th>\n      <th>bacterium</th>\n      <th>modifications</th>\n      <th>sequence</th>\n      <th>strain</th>\n      <th>unit</th>\n      <th>url_source</th>\n      <th>value</th>\n      <th>is_modified</th>\n      <th>has_unusual_modification</th>\n      <th>has_cterminal_amidation</th>\n      <th>datasource_has_modifications</th>\n      <th>database</th>\n    </tr>\n  </thead>\n  <tbody>\n    <tr>\n      <th>35</th>\n      <td>P. aeruginosa</td>\n      <td>[C-Terminal]</td>\n      <td>FLSTLWNAAKSIF</td>\n      <td>ATCC 9027</td>\n      <td>uM</td>\n      <td>http://aps.unmc.edu/AP/database/query_output.p...</td>\n      <td>1.150515</td>\n      <td>True</td>\n      <td>False</td>\n      <td>True</td>\n      <td>True</td>\n      <td>APD</td>\n    </tr>\n    <tr>\n      <th>36</th>\n      <td>S. agalactiae</td>\n      <td>[C-Terminal]</td>\n      <td>FLSTLWNAAKSIF</td>\n      <td>NaN</td>\n      <td>uM</td>\n      <td>http://aps.unmc.edu/AP/database/query_output.p...</td>\n      <td>1.150515</td>\n      <td>True</td>\n      <td>False</td>\n      <td>True</td>\n      <td>True</td>\n      <td>APD</td>\n    </tr>\n    <tr>\n      <th>37</th>\n      <td>B. subtilis</td>\n      <td>[C-Terminal]</td>\n      <td>FLSTLWNAAKSIF</td>\n      <td>ATCC 6633</td>\n      <td>uM</td>\n      <td>http://aps.unmc.edu/AP/database/query_output.p...</td>\n      <td>1.150515</td>\n      <td>True</td>\n      <td>False</td>\n      <td>True</td>\n      <td>True</td>\n      <td>APD</td>\n    </tr>\n    <tr>\n      <th>38</th>\n      <td>E. coli</td>\n      <td>[C-Terminal]</td>\n      <td>FLSTLWNAAKSIF</td>\n      <td>ATCC 25922</td>\n      <td>uM</td>\n      <td>http://aps.unmc.edu/AP/database/query_output.p...</td>\n      <td>1.150515</td>\n      <td>True</td>\n      <td>False</td>\n      <td>True</td>\n      <td>True</td>\n      <td>APD</td>\n    </tr>\n    <tr>\n      <th>39</th>\n      <td>S. typhi</td>\n      <td>[C-Terminal]</td>\n      <td>FLSTLWNAAKSIF</td>\n      <td>ATCC 6399</td>\n      <td>uM</td>\n      <td>http://aps.unmc.edu/AP/database/query_output.p...</td>\n      <td>1.150515</td>\n      <td>True</td>\n      <td>False</td>\n      <td>True</td>\n      <td>True</td>\n      <td>APD</td>\n    </tr>\n    <tr>\n      <th>...</th>\n      <td>...</td>\n      <td>...</td>\n      <td>...</td>\n      <td>...</td>\n      <td>...</td>\n      <td>...</td>\n      <td>...</td>\n      <td>...</td>\n      <td>...</td>\n      <td>...</td>\n      <td>...</td>\n      <td>...</td>\n    </tr>\n    <tr>\n      <th>58004</th>\n      <td>E. coli</td>\n      <td>[C-Terminal Amidation]</td>\n      <td>GLLSSLSSVAKHVLPHVVPVIAEHL</td>\n      <td>NaN</td>\n      <td>uM</td>\n      <td>http://dramp.cpu-bioinfor.org/browse/All_Infor...</td>\n      <td>1.283485</td>\n      <td>True</td>\n      <td>False</td>\n      <td>True</td>\n      <td>True</td>\n      <td>DRAMP</td>\n    </tr>\n    <tr>\n      <th>58005</th>\n      <td>L. innocua</td>\n      <td>[C-Terminal Amidation]</td>\n      <td>GLLSSLSSVAKHVLPHVVPVIAEHL</td>\n      <td>NaN</td>\n      <td>uM</td>\n      <td>http://dramp.cpu-bioinfor.org/browse/All_Infor...</td>\n      <td>1.584515</td>\n      <td>True</td>\n      <td>False</td>\n      <td>True</td>\n      <td>True</td>\n      <td>DRAMP</td>\n    </tr>\n    <tr>\n      <th>58006</th>\n      <td>L. lactis</td>\n      <td>[C-Terminal Amidation]</td>\n      <td>GLLSSLSSVAKHVLPHVVPVIAEHL</td>\n      <td>NaN</td>\n      <td>uM</td>\n      <td>http://dramp.cpu-bioinfor.org/browse/All_Infor...</td>\n      <td>0.663696</td>\n      <td>True</td>\n      <td>False</td>\n      <td>True</td>\n      <td>True</td>\n      <td>DRAMP</td>\n    </tr>\n    <tr>\n      <th>58067</th>\n      <td>E. cloacae</td>\n      <td>[C-Terminal Amidation]</td>\n      <td>IIGHLIKTALGFLGL</td>\n      <td>ATCC 13047</td>\n      <td>uM</td>\n      <td>http://dramp.cpu-bioinfor.org/browse/All_Infor...</td>\n      <td>2.000000</td>\n      <td>True</td>\n      <td>False</td>\n      <td>True</td>\n      <td>True</td>\n      <td>DRAMP</td>\n    </tr>\n    <tr>\n      <th>58068</th>\n      <td>E. coli</td>\n      <td>[C-Terminal Amidation]</td>\n      <td>IIGHLIKTALGFLGL</td>\n      <td>ATCC3</td>\n      <td>uM</td>\n      <td>http://dramp.cpu-bioinfor.org/browse/All_Infor...</td>\n      <td>2.000000</td>\n      <td>True</td>\n      <td>False</td>\n      <td>True</td>\n      <td>True</td>\n      <td>DRAMP</td>\n    </tr>\n  </tbody>\n</table>\n<p>18741 rows × 12 columns</p>\n</div>"
     },
     "execution_count": 193,
     "metadata": {},
     "output_type": "execute_result"
    }
   ],
   "source": [
    "grampa = grampa[grampa[\"has_cterminal_amidation\"] == True]\n",
    "grampa"
   ],
   "metadata": {
    "collapsed": false,
    "pycharm": {
     "name": "#%%\n"
    }
   }
  },
  {
   "cell_type": "markdown",
   "source": [
    "# 2. Sequence length 5~50"
   ],
   "metadata": {
    "collapsed": false
   }
  },
  {
   "cell_type": "code",
   "execution_count": 194,
   "outputs": [
    {
     "data": {
      "text/plain": "           bacterium           modifications                   sequence  \\\n35     P. aeruginosa            [C-Terminal]              FLSTLWNAAKSIF   \n36     S. agalactiae            [C-Terminal]              FLSTLWNAAKSIF   \n37       B. subtilis            [C-Terminal]              FLSTLWNAAKSIF   \n38           E. coli            [C-Terminal]              FLSTLWNAAKSIF   \n39          S. typhi            [C-Terminal]              FLSTLWNAAKSIF   \n...              ...                     ...                        ...   \n58004        E. coli  [C-Terminal Amidation]  GLLSSLSSVAKHVLPHVVPVIAEHL   \n58005     L. innocua  [C-Terminal Amidation]  GLLSSLSSVAKHVLPHVVPVIAEHL   \n58006      L. lactis  [C-Terminal Amidation]  GLLSSLSSVAKHVLPHVVPVIAEHL   \n58067     E. cloacae  [C-Terminal Amidation]            IIGHLIKTALGFLGL   \n58068        E. coli  [C-Terminal Amidation]            IIGHLIKTALGFLGL   \n\n           strain unit                                         url_source  \\\n35      ATCC 9027   uM  http://aps.unmc.edu/AP/database/query_output.p...   \n36            NaN   uM  http://aps.unmc.edu/AP/database/query_output.p...   \n37      ATCC 6633   uM  http://aps.unmc.edu/AP/database/query_output.p...   \n38     ATCC 25922   uM  http://aps.unmc.edu/AP/database/query_output.p...   \n39      ATCC 6399   uM  http://aps.unmc.edu/AP/database/query_output.p...   \n...           ...  ...                                                ...   \n58004         NaN   uM  http://dramp.cpu-bioinfor.org/browse/All_Infor...   \n58005         NaN   uM  http://dramp.cpu-bioinfor.org/browse/All_Infor...   \n58006         NaN   uM  http://dramp.cpu-bioinfor.org/browse/All_Infor...   \n58067  ATCC 13047   uM  http://dramp.cpu-bioinfor.org/browse/All_Infor...   \n58068       ATCC3   uM  http://dramp.cpu-bioinfor.org/browse/All_Infor...   \n\n          value  is_modified  has_unusual_modification  \\\n35     1.150515         True                     False   \n36     1.150515         True                     False   \n37     1.150515         True                     False   \n38     1.150515         True                     False   \n39     1.150515         True                     False   \n...         ...          ...                       ...   \n58004  1.283485         True                     False   \n58005  1.584515         True                     False   \n58006  0.663696         True                     False   \n58067  2.000000         True                     False   \n58068  2.000000         True                     False   \n\n       has_cterminal_amidation  datasource_has_modifications database  \n35                        True                          True      APD  \n36                        True                          True      APD  \n37                        True                          True      APD  \n38                        True                          True      APD  \n39                        True                          True      APD  \n...                        ...                           ...      ...  \n58004                     True                          True    DRAMP  \n58005                     True                          True    DRAMP  \n58006                     True                          True    DRAMP  \n58067                     True                          True    DRAMP  \n58068                     True                          True    DRAMP  \n\n[18300 rows x 12 columns]",
      "text/html": "<div>\n<style scoped>\n    .dataframe tbody tr th:only-of-type {\n        vertical-align: middle;\n    }\n\n    .dataframe tbody tr th {\n        vertical-align: top;\n    }\n\n    .dataframe thead th {\n        text-align: right;\n    }\n</style>\n<table border=\"1\" class=\"dataframe\">\n  <thead>\n    <tr style=\"text-align: right;\">\n      <th></th>\n      <th>bacterium</th>\n      <th>modifications</th>\n      <th>sequence</th>\n      <th>strain</th>\n      <th>unit</th>\n      <th>url_source</th>\n      <th>value</th>\n      <th>is_modified</th>\n      <th>has_unusual_modification</th>\n      <th>has_cterminal_amidation</th>\n      <th>datasource_has_modifications</th>\n      <th>database</th>\n    </tr>\n  </thead>\n  <tbody>\n    <tr>\n      <th>35</th>\n      <td>P. aeruginosa</td>\n      <td>[C-Terminal]</td>\n      <td>FLSTLWNAAKSIF</td>\n      <td>ATCC 9027</td>\n      <td>uM</td>\n      <td>http://aps.unmc.edu/AP/database/query_output.p...</td>\n      <td>1.150515</td>\n      <td>True</td>\n      <td>False</td>\n      <td>True</td>\n      <td>True</td>\n      <td>APD</td>\n    </tr>\n    <tr>\n      <th>36</th>\n      <td>S. agalactiae</td>\n      <td>[C-Terminal]</td>\n      <td>FLSTLWNAAKSIF</td>\n      <td>NaN</td>\n      <td>uM</td>\n      <td>http://aps.unmc.edu/AP/database/query_output.p...</td>\n      <td>1.150515</td>\n      <td>True</td>\n      <td>False</td>\n      <td>True</td>\n      <td>True</td>\n      <td>APD</td>\n    </tr>\n    <tr>\n      <th>37</th>\n      <td>B. subtilis</td>\n      <td>[C-Terminal]</td>\n      <td>FLSTLWNAAKSIF</td>\n      <td>ATCC 6633</td>\n      <td>uM</td>\n      <td>http://aps.unmc.edu/AP/database/query_output.p...</td>\n      <td>1.150515</td>\n      <td>True</td>\n      <td>False</td>\n      <td>True</td>\n      <td>True</td>\n      <td>APD</td>\n    </tr>\n    <tr>\n      <th>38</th>\n      <td>E. coli</td>\n      <td>[C-Terminal]</td>\n      <td>FLSTLWNAAKSIF</td>\n      <td>ATCC 25922</td>\n      <td>uM</td>\n      <td>http://aps.unmc.edu/AP/database/query_output.p...</td>\n      <td>1.150515</td>\n      <td>True</td>\n      <td>False</td>\n      <td>True</td>\n      <td>True</td>\n      <td>APD</td>\n    </tr>\n    <tr>\n      <th>39</th>\n      <td>S. typhi</td>\n      <td>[C-Terminal]</td>\n      <td>FLSTLWNAAKSIF</td>\n      <td>ATCC 6399</td>\n      <td>uM</td>\n      <td>http://aps.unmc.edu/AP/database/query_output.p...</td>\n      <td>1.150515</td>\n      <td>True</td>\n      <td>False</td>\n      <td>True</td>\n      <td>True</td>\n      <td>APD</td>\n    </tr>\n    <tr>\n      <th>...</th>\n      <td>...</td>\n      <td>...</td>\n      <td>...</td>\n      <td>...</td>\n      <td>...</td>\n      <td>...</td>\n      <td>...</td>\n      <td>...</td>\n      <td>...</td>\n      <td>...</td>\n      <td>...</td>\n      <td>...</td>\n    </tr>\n    <tr>\n      <th>58004</th>\n      <td>E. coli</td>\n      <td>[C-Terminal Amidation]</td>\n      <td>GLLSSLSSVAKHVLPHVVPVIAEHL</td>\n      <td>NaN</td>\n      <td>uM</td>\n      <td>http://dramp.cpu-bioinfor.org/browse/All_Infor...</td>\n      <td>1.283485</td>\n      <td>True</td>\n      <td>False</td>\n      <td>True</td>\n      <td>True</td>\n      <td>DRAMP</td>\n    </tr>\n    <tr>\n      <th>58005</th>\n      <td>L. innocua</td>\n      <td>[C-Terminal Amidation]</td>\n      <td>GLLSSLSSVAKHVLPHVVPVIAEHL</td>\n      <td>NaN</td>\n      <td>uM</td>\n      <td>http://dramp.cpu-bioinfor.org/browse/All_Infor...</td>\n      <td>1.584515</td>\n      <td>True</td>\n      <td>False</td>\n      <td>True</td>\n      <td>True</td>\n      <td>DRAMP</td>\n    </tr>\n    <tr>\n      <th>58006</th>\n      <td>L. lactis</td>\n      <td>[C-Terminal Amidation]</td>\n      <td>GLLSSLSSVAKHVLPHVVPVIAEHL</td>\n      <td>NaN</td>\n      <td>uM</td>\n      <td>http://dramp.cpu-bioinfor.org/browse/All_Infor...</td>\n      <td>0.663696</td>\n      <td>True</td>\n      <td>False</td>\n      <td>True</td>\n      <td>True</td>\n      <td>DRAMP</td>\n    </tr>\n    <tr>\n      <th>58067</th>\n      <td>E. cloacae</td>\n      <td>[C-Terminal Amidation]</td>\n      <td>IIGHLIKTALGFLGL</td>\n      <td>ATCC 13047</td>\n      <td>uM</td>\n      <td>http://dramp.cpu-bioinfor.org/browse/All_Infor...</td>\n      <td>2.000000</td>\n      <td>True</td>\n      <td>False</td>\n      <td>True</td>\n      <td>True</td>\n      <td>DRAMP</td>\n    </tr>\n    <tr>\n      <th>58068</th>\n      <td>E. coli</td>\n      <td>[C-Terminal Amidation]</td>\n      <td>IIGHLIKTALGFLGL</td>\n      <td>ATCC3</td>\n      <td>uM</td>\n      <td>http://dramp.cpu-bioinfor.org/browse/All_Infor...</td>\n      <td>2.000000</td>\n      <td>True</td>\n      <td>False</td>\n      <td>True</td>\n      <td>True</td>\n      <td>DRAMP</td>\n    </tr>\n  </tbody>\n</table>\n<p>18300 rows × 12 columns</p>\n</div>"
     },
     "execution_count": 194,
     "metadata": {},
     "output_type": "execute_result"
    }
   ],
   "source": [
    "grampa = grampa[grampa[\"sequence\"].apply(lambda x: 5<=len(x)<=50)]\n",
    "grampa"
   ],
   "metadata": {
    "collapsed": false,
    "pycharm": {
     "name": "#%%\n"
    }
   }
  },
  {
   "cell_type": "markdown",
   "source": [
    "# 3. Only active to *S. aureus*"
   ],
   "metadata": {
    "collapsed": false
   }
  },
  {
   "cell_type": "code",
   "execution_count": 195,
   "outputs": [
    {
     "data": {
      "text/plain": "       bacterium           modifications                   sequence  \\\n40     S. aureus            [C-Terminal]              FLSTLWNAAKSIF   \n63     S. aureus            [C-Terminal]              LLPIVGNLLKSLL   \n86     S. aureus            [C-Terminal]      GIWDTIKSMGKVFAGKILQNL   \n114    S. aureus            [C-Terminal]       NRFTARFRRTPWRLCLQFRQ   \n133    S. aureus            [C-Terminal]              ILSAIWSGIKSLF   \n...          ...                     ...                        ...   \n57910  S. aureus  [C-Terminal Amidation]             IDWLKLGKMVMDVL   \n57927  S. aureus  [C-Terminal Amidation]       FLSLIPHAINAVSAIAKHFG   \n57979  S. aureus  [C-Terminal Amidation]  GLFKVLGSVAKHLLPHVAPIIAEKL   \n57983  S. aureus  [C-Terminal Amidation]  GLFKVLGSVAKHLLPHVAPIIAEKL   \n58001  S. aureus  [C-Terminal Amidation]  GLLSSLSSVAKHVLPHVVPVIAEHL   \n\n           strain unit                                         url_source  \\\n40     ATCC 25923   uM  http://aps.unmc.edu/AP/database/query_output.p...   \n63            NaN   uM  http://aps.unmc.edu/AP/database/query_output.p...   \n86            NaN   uM  http://aps.unmc.edu/AP/database/query_output.p...   \n114           NaN   uM  http://aps.unmc.edu/AP/database/query_output.p...   \n133           NaN   uM  http://aps.unmc.edu/AP/database/query_output.p...   \n...           ...  ...                                                ...   \n57910         NaN   uM  http://dramp.cpu-bioinfor.org/browse/All_Infor...   \n57927         NaN   uM  http://dramp.cpu-bioinfor.org/browse/All_Infor...   \n57979  ATCC 25923   uM  http://dramp.cpu-bioinfor.org/browse/All_Infor...   \n57983  ATCC 29213   uM  http://dramp.cpu-bioinfor.org/browse/All_Infor...   \n58001         NaN   uM  http://dramp.cpu-bioinfor.org/browse/All_Infor...   \n\n          value  is_modified  has_unusual_modification  \\\n40     1.150515         True                     False   \n63     0.447158         True                     False   \n86     1.397940         True                     False   \n114    1.382429         True                     False   \n133    0.977121         True                     False   \n...         ...          ...                       ...   \n57910  1.278754         True                     False   \n57927  0.778151         True                     False   \n57979  0.655732         True                     False   \n57983  0.655732         True                     False   \n58001  1.584515         True                     False   \n\n       has_cterminal_amidation  datasource_has_modifications database  \n40                        True                          True      APD  \n63                        True                          True      APD  \n86                        True                          True      APD  \n114                       True                          True      APD  \n133                       True                          True      APD  \n...                        ...                           ...      ...  \n57910                     True                          True    DRAMP  \n57927                     True                          True    DRAMP  \n57979                     True                          True    DRAMP  \n57983                     True                          True    DRAMP  \n58001                     True                          True    DRAMP  \n\n[3040 rows x 12 columns]",
      "text/html": "<div>\n<style scoped>\n    .dataframe tbody tr th:only-of-type {\n        vertical-align: middle;\n    }\n\n    .dataframe tbody tr th {\n        vertical-align: top;\n    }\n\n    .dataframe thead th {\n        text-align: right;\n    }\n</style>\n<table border=\"1\" class=\"dataframe\">\n  <thead>\n    <tr style=\"text-align: right;\">\n      <th></th>\n      <th>bacterium</th>\n      <th>modifications</th>\n      <th>sequence</th>\n      <th>strain</th>\n      <th>unit</th>\n      <th>url_source</th>\n      <th>value</th>\n      <th>is_modified</th>\n      <th>has_unusual_modification</th>\n      <th>has_cterminal_amidation</th>\n      <th>datasource_has_modifications</th>\n      <th>database</th>\n    </tr>\n  </thead>\n  <tbody>\n    <tr>\n      <th>40</th>\n      <td>S. aureus</td>\n      <td>[C-Terminal]</td>\n      <td>FLSTLWNAAKSIF</td>\n      <td>ATCC 25923</td>\n      <td>uM</td>\n      <td>http://aps.unmc.edu/AP/database/query_output.p...</td>\n      <td>1.150515</td>\n      <td>True</td>\n      <td>False</td>\n      <td>True</td>\n      <td>True</td>\n      <td>APD</td>\n    </tr>\n    <tr>\n      <th>63</th>\n      <td>S. aureus</td>\n      <td>[C-Terminal]</td>\n      <td>LLPIVGNLLKSLL</td>\n      <td>NaN</td>\n      <td>uM</td>\n      <td>http://aps.unmc.edu/AP/database/query_output.p...</td>\n      <td>0.447158</td>\n      <td>True</td>\n      <td>False</td>\n      <td>True</td>\n      <td>True</td>\n      <td>APD</td>\n    </tr>\n    <tr>\n      <th>86</th>\n      <td>S. aureus</td>\n      <td>[C-Terminal]</td>\n      <td>GIWDTIKSMGKVFAGKILQNL</td>\n      <td>NaN</td>\n      <td>uM</td>\n      <td>http://aps.unmc.edu/AP/database/query_output.p...</td>\n      <td>1.397940</td>\n      <td>True</td>\n      <td>False</td>\n      <td>True</td>\n      <td>True</td>\n      <td>APD</td>\n    </tr>\n    <tr>\n      <th>114</th>\n      <td>S. aureus</td>\n      <td>[C-Terminal]</td>\n      <td>NRFTARFRRTPWRLCLQFRQ</td>\n      <td>NaN</td>\n      <td>uM</td>\n      <td>http://aps.unmc.edu/AP/database/query_output.p...</td>\n      <td>1.382429</td>\n      <td>True</td>\n      <td>False</td>\n      <td>True</td>\n      <td>True</td>\n      <td>APD</td>\n    </tr>\n    <tr>\n      <th>133</th>\n      <td>S. aureus</td>\n      <td>[C-Terminal]</td>\n      <td>ILSAIWSGIKSLF</td>\n      <td>NaN</td>\n      <td>uM</td>\n      <td>http://aps.unmc.edu/AP/database/query_output.p...</td>\n      <td>0.977121</td>\n      <td>True</td>\n      <td>False</td>\n      <td>True</td>\n      <td>True</td>\n      <td>APD</td>\n    </tr>\n    <tr>\n      <th>...</th>\n      <td>...</td>\n      <td>...</td>\n      <td>...</td>\n      <td>...</td>\n      <td>...</td>\n      <td>...</td>\n      <td>...</td>\n      <td>...</td>\n      <td>...</td>\n      <td>...</td>\n      <td>...</td>\n      <td>...</td>\n    </tr>\n    <tr>\n      <th>57910</th>\n      <td>S. aureus</td>\n      <td>[C-Terminal Amidation]</td>\n      <td>IDWLKLGKMVMDVL</td>\n      <td>NaN</td>\n      <td>uM</td>\n      <td>http://dramp.cpu-bioinfor.org/browse/All_Infor...</td>\n      <td>1.278754</td>\n      <td>True</td>\n      <td>False</td>\n      <td>True</td>\n      <td>True</td>\n      <td>DRAMP</td>\n    </tr>\n    <tr>\n      <th>57927</th>\n      <td>S. aureus</td>\n      <td>[C-Terminal Amidation]</td>\n      <td>FLSLIPHAINAVSAIAKHFG</td>\n      <td>NaN</td>\n      <td>uM</td>\n      <td>http://dramp.cpu-bioinfor.org/browse/All_Infor...</td>\n      <td>0.778151</td>\n      <td>True</td>\n      <td>False</td>\n      <td>True</td>\n      <td>True</td>\n      <td>DRAMP</td>\n    </tr>\n    <tr>\n      <th>57979</th>\n      <td>S. aureus</td>\n      <td>[C-Terminal Amidation]</td>\n      <td>GLFKVLGSVAKHLLPHVAPIIAEKL</td>\n      <td>ATCC 25923</td>\n      <td>uM</td>\n      <td>http://dramp.cpu-bioinfor.org/browse/All_Infor...</td>\n      <td>0.655732</td>\n      <td>True</td>\n      <td>False</td>\n      <td>True</td>\n      <td>True</td>\n      <td>DRAMP</td>\n    </tr>\n    <tr>\n      <th>57983</th>\n      <td>S. aureus</td>\n      <td>[C-Terminal Amidation]</td>\n      <td>GLFKVLGSVAKHLLPHVAPIIAEKL</td>\n      <td>ATCC 29213</td>\n      <td>uM</td>\n      <td>http://dramp.cpu-bioinfor.org/browse/All_Infor...</td>\n      <td>0.655732</td>\n      <td>True</td>\n      <td>False</td>\n      <td>True</td>\n      <td>True</td>\n      <td>DRAMP</td>\n    </tr>\n    <tr>\n      <th>58001</th>\n      <td>S. aureus</td>\n      <td>[C-Terminal Amidation]</td>\n      <td>GLLSSLSSVAKHVLPHVVPVIAEHL</td>\n      <td>NaN</td>\n      <td>uM</td>\n      <td>http://dramp.cpu-bioinfor.org/browse/All_Infor...</td>\n      <td>1.584515</td>\n      <td>True</td>\n      <td>False</td>\n      <td>True</td>\n      <td>True</td>\n      <td>DRAMP</td>\n    </tr>\n  </tbody>\n</table>\n<p>3040 rows × 12 columns</p>\n</div>"
     },
     "execution_count": 195,
     "metadata": {},
     "output_type": "execute_result"
    }
   ],
   "source": [
    "grampa = grampa[grampa.bacterium == \"S. aureus\"]\n",
    "grampa"
   ],
   "metadata": {
    "collapsed": false,
    "pycharm": {
     "name": "#%%\n"
    }
   }
  },
  {
   "cell_type": "markdown",
   "source": [
    "# 4. Averaging of multiple MIC values"
   ],
   "metadata": {
    "collapsed": false
   }
  },
  {
   "cell_type": "code",
   "execution_count": 196,
   "outputs": [
    {
     "data": {
      "text/plain": "sequence\nAAAAAAAIKMLMDLVNERIMALNKKAKK           1.301030\nAAGMGFFGAR                             1.404834\nAAHCIALRKGYK                           1.477121\nAAHCIQLGKR                             1.477121\nAAHCIVLHHN                             1.477121\n                                         ...   \nYRWARWWRR                              0.541925\nYSLQMGATAIKQVKKLFKKKGG                 0.819544\nYSWPRMPRIPRLPRYPRYPRYPRWPRHPTIYA       1.204120\nYSWPRMPRIPRLPRYPRYPRYPRWPRWPRQPTIYA    0.978347\nYWRWRW                                 0.977906\nName: value, Length: 1872, dtype: float64"
     },
     "execution_count": 196,
     "metadata": {},
     "output_type": "execute_result"
    }
   ],
   "source": [
    "average_value = grampa.groupby(by=[\"sequence\"])[\"value\"].mean()\n",
    "average_value = average_value[average_value>0]\n",
    "average_value"
   ],
   "metadata": {
    "collapsed": false,
    "pycharm": {
     "name": "#%%\n"
    }
   }
  },
  {
   "cell_type": "markdown",
   "source": [
    "# Save data"
   ],
   "metadata": {
    "collapsed": false
   }
  },
  {
   "cell_type": "code",
   "execution_count": 197,
   "outputs": [],
   "source": [
    "average_value.to_csv(\"../data/filtered_data/positive.csv\")"
   ],
   "metadata": {
    "collapsed": false,
    "pycharm": {
     "name": "#%%\n"
    }
   }
  }
 ],
 "metadata": {
  "kernelspec": {
   "display_name": "Python 3",
   "language": "python",
   "name": "python3"
  },
  "language_info": {
   "codemirror_mode": {
    "name": "ipython",
    "version": 2
   },
   "file_extension": ".py",
   "mimetype": "text/x-python",
   "name": "python",
   "nbconvert_exporter": "python",
   "pygments_lexer": "ipython2",
   "version": "2.7.6"
  }
 },
 "nbformat": 4,
 "nbformat_minor": 0
}