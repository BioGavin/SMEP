{
 "cells": [
  {
   "cell_type": "markdown",
   "source": [
    "# Import data"
   ],
   "metadata": {
    "collapsed": false
   }
  },
  {
   "cell_type": "code",
   "execution_count": 64,
   "metadata": {
    "collapsed": true
   },
   "outputs": [
    {
     "data": {
      "text/plain": "          Status                                      Protein names  \\\nEntry                                                                 \nP0C2L1  reviewed  Dermonecrotic toxin LlSicTox-alphaIII-1 (EC 4....   \nP67786  reviewed                 Adipokinetic hormone (AKH) (RO II)   \nQ9PS08  reviewed      Dendrotoxin A (DTX-A) (Fasciculin) (Fragment)   \nP12343  reviewed  Aspartate aminotransferase, cytoplasmic (cAspA...   \nP0C1H0  reviewed  Equinatoxin-1 (DELTA-actitoxin) (Equinatoxin I...   \n...          ...                                                ...   \nP80628  reviewed  Unknown protein from spot 474 of 2D-PAGE of et...   \nP0DSK9  reviewed  U1-ectatotoxin-Eb1a subunit B (U1-ECTX-Eb1a su...   \nP85800  reviewed                                           Variegin   \nP03792  reviewed             Protein 1.5 (Gene product 1.5) (Gp1.5)   \nO83662  reviewed                    Uncharacterized protein TP_0656   \n\n                                                 Organism  Length  \\\nEntry                                                               \nP0C2L1  Loxosceles laeta (South American recluse spide...      30   \nP67786  Romalea microptera (Eastern lubber grasshopper...       8   \nQ9PS08  Dendroaspis angusticeps (Eastern green mamba) ...      30   \nP12343                     Oryctolagus cuniculus (Rabbit)      31   \nP0C1H0                   Actinia equina (Beadlet anemone)      20   \n...                                                   ...     ...   \nP80628                                   Zea mays (Maize)       5   \nP0DSK9    Ectatomma brunneum (Ant) (Ectatomma quadridens)      37   \nP85800          Amblyomma variegatum (Tropical bont tick)      32   \nP03792            Escherichia phage T7 (Bacteriophage T7)      29   \nO83662                Treponema pallidum (strain Nichols)      33   \n\n                                                 Keywords  \\\nEntry                                                       \nP0C2L1  Cytolysis;Dermonecrotic toxin;Direct protein s...   \nP67786  Amidation;Direct protein sequencing;Flight;Hor...   \nQ9PS08  Direct protein sequencing;Disulfide bond;Ion c...   \nP12343  Amino-acid biosynthesis;Aminotransferase;Cytop...   \nP0C1H0  Cytolysis;Direct protein sequencing;Hemolysis;...   \n...                                                   ...   \nP80628       Direct protein sequencing;Reference proteome   \nP0DSK9  Direct protein sequencing;Disulfide bond;Membr...   \nP85800  3D-structure;Direct protein sequencing;Glycopr...   \nP03792                                 Reference proteome   \nO83662                                 Reference proteome   \n\n                                     Sequence  \\\nEntry                                           \nP0C2L1         ADNRRPIWNLGHMVNALKQIPTFLXDGANA   \nP67786                               QVNFSTGW   \nQ9PS08         TMCYSHTTTSRAILTNCGENSCYRKSRVHP   \nP12343        MAPPSIFAEVPQAQPVLVFKLTADFREDPDP   \nP0C1H0                   SVAVAGAVIEGASLTFNVLQ   \n...                                       ...   \nP80628                                  IFFEV   \nP0DSK9  FAIGAIIKKFGKKLVEYAVKHKDLYAPYIKKHLCEKL   \nP85800       SDQGDVAEPKMHKTAPPFDFEAIPEEYLDDES   \nP03792          MMYLMPLLIVIVGCLALHCSDDDMPDGHA   \nO83662      MRTGTRCDLGELSHPRKTLPPRGMGILCNYTGN   \n\n                                                 Features  \nEntry                                                      \nP0C2L1  Active site (1); Chain (1); Non-terminal resid...  \nP67786                  Modified residue (2); Peptide (1)  \nQ9PS08  Chain (1); Disulfide bond (1); Non-terminal re...  \nP12343  Chain (1); Initiator methionine (1); Non-termi...  \nP0C1H0  Non-terminal residue (1); Peptide (1); Region (2)  \n...                                                   ...  \nP80628                Chain (1); Non-terminal residue (2)  \nP0DSK9                      Chain (1); Disulfide bond (1)  \nP85800  Glycosylation (1); Natural variant (1); Peptid...  \nP03792                                          Chain (1)  \nO83662                                          Chain (1)  \n\n[8556 rows x 7 columns]",
      "text/html": "<div>\n<style scoped>\n    .dataframe tbody tr th:only-of-type {\n        vertical-align: middle;\n    }\n\n    .dataframe tbody tr th {\n        vertical-align: top;\n    }\n\n    .dataframe thead th {\n        text-align: right;\n    }\n</style>\n<table border=\"1\" class=\"dataframe\">\n  <thead>\n    <tr style=\"text-align: right;\">\n      <th></th>\n      <th>Status</th>\n      <th>Protein names</th>\n      <th>Organism</th>\n      <th>Length</th>\n      <th>Keywords</th>\n      <th>Sequence</th>\n      <th>Features</th>\n    </tr>\n    <tr>\n      <th>Entry</th>\n      <th></th>\n      <th></th>\n      <th></th>\n      <th></th>\n      <th></th>\n      <th></th>\n      <th></th>\n    </tr>\n  </thead>\n  <tbody>\n    <tr>\n      <th>P0C2L1</th>\n      <td>reviewed</td>\n      <td>Dermonecrotic toxin LlSicTox-alphaIII-1 (EC 4....</td>\n      <td>Loxosceles laeta (South American recluse spide...</td>\n      <td>30</td>\n      <td>Cytolysis;Dermonecrotic toxin;Direct protein s...</td>\n      <td>ADNRRPIWNLGHMVNALKQIPTFLXDGANA</td>\n      <td>Active site (1); Chain (1); Non-terminal resid...</td>\n    </tr>\n    <tr>\n      <th>P67786</th>\n      <td>reviewed</td>\n      <td>Adipokinetic hormone (AKH) (RO II)</td>\n      <td>Romalea microptera (Eastern lubber grasshopper...</td>\n      <td>8</td>\n      <td>Amidation;Direct protein sequencing;Flight;Hor...</td>\n      <td>QVNFSTGW</td>\n      <td>Modified residue (2); Peptide (1)</td>\n    </tr>\n    <tr>\n      <th>Q9PS08</th>\n      <td>reviewed</td>\n      <td>Dendrotoxin A (DTX-A) (Fasciculin) (Fragment)</td>\n      <td>Dendroaspis angusticeps (Eastern green mamba) ...</td>\n      <td>30</td>\n      <td>Direct protein sequencing;Disulfide bond;Ion c...</td>\n      <td>TMCYSHTTTSRAILTNCGENSCYRKSRVHP</td>\n      <td>Chain (1); Disulfide bond (1); Non-terminal re...</td>\n    </tr>\n    <tr>\n      <th>P12343</th>\n      <td>reviewed</td>\n      <td>Aspartate aminotransferase, cytoplasmic (cAspA...</td>\n      <td>Oryctolagus cuniculus (Rabbit)</td>\n      <td>31</td>\n      <td>Amino-acid biosynthesis;Aminotransferase;Cytop...</td>\n      <td>MAPPSIFAEVPQAQPVLVFKLTADFREDPDP</td>\n      <td>Chain (1); Initiator methionine (1); Non-termi...</td>\n    </tr>\n    <tr>\n      <th>P0C1H0</th>\n      <td>reviewed</td>\n      <td>Equinatoxin-1 (DELTA-actitoxin) (Equinatoxin I...</td>\n      <td>Actinia equina (Beadlet anemone)</td>\n      <td>20</td>\n      <td>Cytolysis;Direct protein sequencing;Hemolysis;...</td>\n      <td>SVAVAGAVIEGASLTFNVLQ</td>\n      <td>Non-terminal residue (1); Peptide (1); Region (2)</td>\n    </tr>\n    <tr>\n      <th>...</th>\n      <td>...</td>\n      <td>...</td>\n      <td>...</td>\n      <td>...</td>\n      <td>...</td>\n      <td>...</td>\n      <td>...</td>\n    </tr>\n    <tr>\n      <th>P80628</th>\n      <td>reviewed</td>\n      <td>Unknown protein from spot 474 of 2D-PAGE of et...</td>\n      <td>Zea mays (Maize)</td>\n      <td>5</td>\n      <td>Direct protein sequencing;Reference proteome</td>\n      <td>IFFEV</td>\n      <td>Chain (1); Non-terminal residue (2)</td>\n    </tr>\n    <tr>\n      <th>P0DSK9</th>\n      <td>reviewed</td>\n      <td>U1-ectatotoxin-Eb1a subunit B (U1-ECTX-Eb1a su...</td>\n      <td>Ectatomma brunneum (Ant) (Ectatomma quadridens)</td>\n      <td>37</td>\n      <td>Direct protein sequencing;Disulfide bond;Membr...</td>\n      <td>FAIGAIIKKFGKKLVEYAVKHKDLYAPYIKKHLCEKL</td>\n      <td>Chain (1); Disulfide bond (1)</td>\n    </tr>\n    <tr>\n      <th>P85800</th>\n      <td>reviewed</td>\n      <td>Variegin</td>\n      <td>Amblyomma variegatum (Tropical bont tick)</td>\n      <td>32</td>\n      <td>3D-structure;Direct protein sequencing;Glycopr...</td>\n      <td>SDQGDVAEPKMHKTAPPFDFEAIPEEYLDDES</td>\n      <td>Glycosylation (1); Natural variant (1); Peptid...</td>\n    </tr>\n    <tr>\n      <th>P03792</th>\n      <td>reviewed</td>\n      <td>Protein 1.5 (Gene product 1.5) (Gp1.5)</td>\n      <td>Escherichia phage T7 (Bacteriophage T7)</td>\n      <td>29</td>\n      <td>Reference proteome</td>\n      <td>MMYLMPLLIVIVGCLALHCSDDDMPDGHA</td>\n      <td>Chain (1)</td>\n    </tr>\n    <tr>\n      <th>O83662</th>\n      <td>reviewed</td>\n      <td>Uncharacterized protein TP_0656</td>\n      <td>Treponema pallidum (strain Nichols)</td>\n      <td>33</td>\n      <td>Reference proteome</td>\n      <td>MRTGTRCDLGELSHPRKTLPPRGMGILCNYTGN</td>\n      <td>Chain (1)</td>\n    </tr>\n  </tbody>\n</table>\n<p>8556 rows × 7 columns</p>\n</div>"
     },
     "execution_count": 64,
     "metadata": {},
     "output_type": "execute_result"
    }
   ],
   "source": [
    "import pandas as pd\n",
    "\n",
    "origin_negative = pd.read_csv(\"../data/origin_data/origin_negative.csv\", index_col=0)\n",
    "origin_negative"
   ]
  },
  {
   "cell_type": "markdown",
   "source": [
    "# 1. Length filtering: 0~40"
   ],
   "metadata": {
    "collapsed": false
   }
  },
  {
   "cell_type": "code",
   "execution_count": 65,
   "outputs": [
    {
     "data": {
      "text/plain": "          Status                                      Protein names  \\\nEntry                                                                 \nP0C2L1  reviewed  Dermonecrotic toxin LlSicTox-alphaIII-1 (EC 4....   \nP67786  reviewed                 Adipokinetic hormone (AKH) (RO II)   \nQ9PS08  reviewed      Dendrotoxin A (DTX-A) (Fasciculin) (Fragment)   \nP12343  reviewed  Aspartate aminotransferase, cytoplasmic (cAspA...   \nP0C1H0  reviewed  Equinatoxin-1 (DELTA-actitoxin) (Equinatoxin I...   \n...          ...                                                ...   \nP80628  reviewed  Unknown protein from spot 474 of 2D-PAGE of et...   \nP0DSK9  reviewed  U1-ectatotoxin-Eb1a subunit B (U1-ECTX-Eb1a su...   \nP85800  reviewed                                           Variegin   \nP03792  reviewed             Protein 1.5 (Gene product 1.5) (Gp1.5)   \nO83662  reviewed                    Uncharacterized protein TP_0656   \n\n                                                 Organism  Length  \\\nEntry                                                               \nP0C2L1  Loxosceles laeta (South American recluse spide...      30   \nP67786  Romalea microptera (Eastern lubber grasshopper...       8   \nQ9PS08  Dendroaspis angusticeps (Eastern green mamba) ...      30   \nP12343                     Oryctolagus cuniculus (Rabbit)      31   \nP0C1H0                   Actinia equina (Beadlet anemone)      20   \n...                                                   ...     ...   \nP80628                                   Zea mays (Maize)       5   \nP0DSK9    Ectatomma brunneum (Ant) (Ectatomma quadridens)      37   \nP85800          Amblyomma variegatum (Tropical bont tick)      32   \nP03792            Escherichia phage T7 (Bacteriophage T7)      29   \nO83662                Treponema pallidum (strain Nichols)      33   \n\n                                                 Keywords  \\\nEntry                                                       \nP0C2L1  Cytolysis;Dermonecrotic toxin;Direct protein s...   \nP67786  Amidation;Direct protein sequencing;Flight;Hor...   \nQ9PS08  Direct protein sequencing;Disulfide bond;Ion c...   \nP12343  Amino-acid biosynthesis;Aminotransferase;Cytop...   \nP0C1H0  Cytolysis;Direct protein sequencing;Hemolysis;...   \n...                                                   ...   \nP80628       Direct protein sequencing;Reference proteome   \nP0DSK9  Direct protein sequencing;Disulfide bond;Membr...   \nP85800  3D-structure;Direct protein sequencing;Glycopr...   \nP03792                                 Reference proteome   \nO83662                                 Reference proteome   \n\n                                     Sequence  \\\nEntry                                           \nP0C2L1         ADNRRPIWNLGHMVNALKQIPTFLXDGANA   \nP67786                               QVNFSTGW   \nQ9PS08         TMCYSHTTTSRAILTNCGENSCYRKSRVHP   \nP12343        MAPPSIFAEVPQAQPVLVFKLTADFREDPDP   \nP0C1H0                   SVAVAGAVIEGASLTFNVLQ   \n...                                       ...   \nP80628                                  IFFEV   \nP0DSK9  FAIGAIIKKFGKKLVEYAVKHKDLYAPYIKKHLCEKL   \nP85800       SDQGDVAEPKMHKTAPPFDFEAIPEEYLDDES   \nP03792          MMYLMPLLIVIVGCLALHCSDDDMPDGHA   \nO83662      MRTGTRCDLGELSHPRKTLPPRGMGILCNYTGN   \n\n                                                 Features  \nEntry                                                      \nP0C2L1  Active site (1); Chain (1); Non-terminal resid...  \nP67786                  Modified residue (2); Peptide (1)  \nQ9PS08  Chain (1); Disulfide bond (1); Non-terminal re...  \nP12343  Chain (1); Initiator methionine (1); Non-termi...  \nP0C1H0  Non-terminal residue (1); Peptide (1); Region (2)  \n...                                                   ...  \nP80628                Chain (1); Non-terminal residue (2)  \nP0DSK9                      Chain (1); Disulfide bond (1)  \nP85800  Glycosylation (1); Natural variant (1); Peptid...  \nP03792                                          Chain (1)  \nO83662                                          Chain (1)  \n\n[8273 rows x 7 columns]",
      "text/html": "<div>\n<style scoped>\n    .dataframe tbody tr th:only-of-type {\n        vertical-align: middle;\n    }\n\n    .dataframe tbody tr th {\n        vertical-align: top;\n    }\n\n    .dataframe thead th {\n        text-align: right;\n    }\n</style>\n<table border=\"1\" class=\"dataframe\">\n  <thead>\n    <tr style=\"text-align: right;\">\n      <th></th>\n      <th>Status</th>\n      <th>Protein names</th>\n      <th>Organism</th>\n      <th>Length</th>\n      <th>Keywords</th>\n      <th>Sequence</th>\n      <th>Features</th>\n    </tr>\n    <tr>\n      <th>Entry</th>\n      <th></th>\n      <th></th>\n      <th></th>\n      <th></th>\n      <th></th>\n      <th></th>\n      <th></th>\n    </tr>\n  </thead>\n  <tbody>\n    <tr>\n      <th>P0C2L1</th>\n      <td>reviewed</td>\n      <td>Dermonecrotic toxin LlSicTox-alphaIII-1 (EC 4....</td>\n      <td>Loxosceles laeta (South American recluse spide...</td>\n      <td>30</td>\n      <td>Cytolysis;Dermonecrotic toxin;Direct protein s...</td>\n      <td>ADNRRPIWNLGHMVNALKQIPTFLXDGANA</td>\n      <td>Active site (1); Chain (1); Non-terminal resid...</td>\n    </tr>\n    <tr>\n      <th>P67786</th>\n      <td>reviewed</td>\n      <td>Adipokinetic hormone (AKH) (RO II)</td>\n      <td>Romalea microptera (Eastern lubber grasshopper...</td>\n      <td>8</td>\n      <td>Amidation;Direct protein sequencing;Flight;Hor...</td>\n      <td>QVNFSTGW</td>\n      <td>Modified residue (2); Peptide (1)</td>\n    </tr>\n    <tr>\n      <th>Q9PS08</th>\n      <td>reviewed</td>\n      <td>Dendrotoxin A (DTX-A) (Fasciculin) (Fragment)</td>\n      <td>Dendroaspis angusticeps (Eastern green mamba) ...</td>\n      <td>30</td>\n      <td>Direct protein sequencing;Disulfide bond;Ion c...</td>\n      <td>TMCYSHTTTSRAILTNCGENSCYRKSRVHP</td>\n      <td>Chain (1); Disulfide bond (1); Non-terminal re...</td>\n    </tr>\n    <tr>\n      <th>P12343</th>\n      <td>reviewed</td>\n      <td>Aspartate aminotransferase, cytoplasmic (cAspA...</td>\n      <td>Oryctolagus cuniculus (Rabbit)</td>\n      <td>31</td>\n      <td>Amino-acid biosynthesis;Aminotransferase;Cytop...</td>\n      <td>MAPPSIFAEVPQAQPVLVFKLTADFREDPDP</td>\n      <td>Chain (1); Initiator methionine (1); Non-termi...</td>\n    </tr>\n    <tr>\n      <th>P0C1H0</th>\n      <td>reviewed</td>\n      <td>Equinatoxin-1 (DELTA-actitoxin) (Equinatoxin I...</td>\n      <td>Actinia equina (Beadlet anemone)</td>\n      <td>20</td>\n      <td>Cytolysis;Direct protein sequencing;Hemolysis;...</td>\n      <td>SVAVAGAVIEGASLTFNVLQ</td>\n      <td>Non-terminal residue (1); Peptide (1); Region (2)</td>\n    </tr>\n    <tr>\n      <th>...</th>\n      <td>...</td>\n      <td>...</td>\n      <td>...</td>\n      <td>...</td>\n      <td>...</td>\n      <td>...</td>\n      <td>...</td>\n    </tr>\n    <tr>\n      <th>P80628</th>\n      <td>reviewed</td>\n      <td>Unknown protein from spot 474 of 2D-PAGE of et...</td>\n      <td>Zea mays (Maize)</td>\n      <td>5</td>\n      <td>Direct protein sequencing;Reference proteome</td>\n      <td>IFFEV</td>\n      <td>Chain (1); Non-terminal residue (2)</td>\n    </tr>\n    <tr>\n      <th>P0DSK9</th>\n      <td>reviewed</td>\n      <td>U1-ectatotoxin-Eb1a subunit B (U1-ECTX-Eb1a su...</td>\n      <td>Ectatomma brunneum (Ant) (Ectatomma quadridens)</td>\n      <td>37</td>\n      <td>Direct protein sequencing;Disulfide bond;Membr...</td>\n      <td>FAIGAIIKKFGKKLVEYAVKHKDLYAPYIKKHLCEKL</td>\n      <td>Chain (1); Disulfide bond (1)</td>\n    </tr>\n    <tr>\n      <th>P85800</th>\n      <td>reviewed</td>\n      <td>Variegin</td>\n      <td>Amblyomma variegatum (Tropical bont tick)</td>\n      <td>32</td>\n      <td>3D-structure;Direct protein sequencing;Glycopr...</td>\n      <td>SDQGDVAEPKMHKTAPPFDFEAIPEEYLDDES</td>\n      <td>Glycosylation (1); Natural variant (1); Peptid...</td>\n    </tr>\n    <tr>\n      <th>P03792</th>\n      <td>reviewed</td>\n      <td>Protein 1.5 (Gene product 1.5) (Gp1.5)</td>\n      <td>Escherichia phage T7 (Bacteriophage T7)</td>\n      <td>29</td>\n      <td>Reference proteome</td>\n      <td>MMYLMPLLIVIVGCLALHCSDDDMPDGHA</td>\n      <td>Chain (1)</td>\n    </tr>\n    <tr>\n      <th>O83662</th>\n      <td>reviewed</td>\n      <td>Uncharacterized protein TP_0656</td>\n      <td>Treponema pallidum (strain Nichols)</td>\n      <td>33</td>\n      <td>Reference proteome</td>\n      <td>MRTGTRCDLGELSHPRKTLPPRGMGILCNYTGN</td>\n      <td>Chain (1)</td>\n    </tr>\n  </tbody>\n</table>\n<p>8273 rows × 7 columns</p>\n</div>"
     },
     "execution_count": 65,
     "metadata": {},
     "output_type": "execute_result"
    }
   ],
   "source": [
    "origin_negative = origin_negative[origin_negative[\"Length\"].values < 40]\n",
    "origin_negative"
   ],
   "metadata": {
    "collapsed": false,
    "pycharm": {
     "name": "#%%\n"
    }
   }
  },
  {
   "cell_type": "code",
   "execution_count": 66,
   "outputs": [
    {
     "data": {
      "text/plain": "          Status                                      Protein names  \\\nEntry                                                                 \nP0C2L1  reviewed  Dermonecrotic toxin LlSicTox-alphaIII-1 (EC 4....   \nP67786  reviewed                 Adipokinetic hormone (AKH) (RO II)   \nQ9PS08  reviewed      Dendrotoxin A (DTX-A) (Fasciculin) (Fragment)   \nP12343  reviewed  Aspartate aminotransferase, cytoplasmic (cAspA...   \nP0C1H0  reviewed  Equinatoxin-1 (DELTA-actitoxin) (Equinatoxin I...   \n...          ...                                                ...   \nP80628  reviewed  Unknown protein from spot 474 of 2D-PAGE of et...   \nP0DSK9  reviewed  U1-ectatotoxin-Eb1a subunit B (U1-ECTX-Eb1a su...   \nP85800  reviewed                                           Variegin   \nP03792  reviewed             Protein 1.5 (Gene product 1.5) (Gp1.5)   \nO83662  reviewed                    Uncharacterized protein TP_0656   \n\n                                                 Organism  Length  \\\nEntry                                                               \nP0C2L1  Loxosceles laeta (South American recluse spide...      30   \nP67786  Romalea microptera (Eastern lubber grasshopper...       8   \nQ9PS08  Dendroaspis angusticeps (Eastern green mamba) ...      30   \nP12343                     Oryctolagus cuniculus (Rabbit)      31   \nP0C1H0                   Actinia equina (Beadlet anemone)      20   \n...                                                   ...     ...   \nP80628                                   Zea mays (Maize)       5   \nP0DSK9    Ectatomma brunneum (Ant) (Ectatomma quadridens)      37   \nP85800          Amblyomma variegatum (Tropical bont tick)      32   \nP03792            Escherichia phage T7 (Bacteriophage T7)      29   \nO83662                Treponema pallidum (strain Nichols)      33   \n\n                                                 Keywords  \\\nEntry                                                       \nP0C2L1  Cytolysis;Dermonecrotic toxin;Direct protein s...   \nP67786  Amidation;Direct protein sequencing;Flight;Hor...   \nQ9PS08  Direct protein sequencing;Disulfide bond;Ion c...   \nP12343  Amino-acid biosynthesis;Aminotransferase;Cytop...   \nP0C1H0  Cytolysis;Direct protein sequencing;Hemolysis;...   \n...                                                   ...   \nP80628       Direct protein sequencing;Reference proteome   \nP0DSK9  Direct protein sequencing;Disulfide bond;Membr...   \nP85800  3D-structure;Direct protein sequencing;Glycopr...   \nP03792                                 Reference proteome   \nO83662                                 Reference proteome   \n\n                                     Sequence  \\\nEntry                                           \nP0C2L1         ADNRRPIWNLGHMVNALKQIPTFLXDGANA   \nP67786                               QVNFSTGW   \nQ9PS08         TMCYSHTTTSRAILTNCGENSCYRKSRVHP   \nP12343        MAPPSIFAEVPQAQPVLVFKLTADFREDPDP   \nP0C1H0                   SVAVAGAVIEGASLTFNVLQ   \n...                                       ...   \nP80628                                  IFFEV   \nP0DSK9  FAIGAIIKKFGKKLVEYAVKHKDLYAPYIKKHLCEKL   \nP85800       SDQGDVAEPKMHKTAPPFDFEAIPEEYLDDES   \nP03792          MMYLMPLLIVIVGCLALHCSDDDMPDGHA   \nO83662      MRTGTRCDLGELSHPRKTLPPRGMGILCNYTGN   \n\n                                                 Features  \nEntry                                                      \nP0C2L1  Active site (1); Chain (1); Non-terminal resid...  \nP67786                  Modified residue (2); Peptide (1)  \nQ9PS08  Chain (1); Disulfide bond (1); Non-terminal re...  \nP12343  Chain (1); Initiator methionine (1); Non-termi...  \nP0C1H0  Non-terminal residue (1); Peptide (1); Region (2)  \n...                                                   ...  \nP80628                Chain (1); Non-terminal residue (2)  \nP0DSK9                      Chain (1); Disulfide bond (1)  \nP85800  Glycosylation (1); Natural variant (1); Peptid...  \nP03792                                          Chain (1)  \nO83662                                          Chain (1)  \n\n[8174 rows x 7 columns]",
      "text/html": "<div>\n<style scoped>\n    .dataframe tbody tr th:only-of-type {\n        vertical-align: middle;\n    }\n\n    .dataframe tbody tr th {\n        vertical-align: top;\n    }\n\n    .dataframe thead th {\n        text-align: right;\n    }\n</style>\n<table border=\"1\" class=\"dataframe\">\n  <thead>\n    <tr style=\"text-align: right;\">\n      <th></th>\n      <th>Status</th>\n      <th>Protein names</th>\n      <th>Organism</th>\n      <th>Length</th>\n      <th>Keywords</th>\n      <th>Sequence</th>\n      <th>Features</th>\n    </tr>\n    <tr>\n      <th>Entry</th>\n      <th></th>\n      <th></th>\n      <th></th>\n      <th></th>\n      <th></th>\n      <th></th>\n      <th></th>\n    </tr>\n  </thead>\n  <tbody>\n    <tr>\n      <th>P0C2L1</th>\n      <td>reviewed</td>\n      <td>Dermonecrotic toxin LlSicTox-alphaIII-1 (EC 4....</td>\n      <td>Loxosceles laeta (South American recluse spide...</td>\n      <td>30</td>\n      <td>Cytolysis;Dermonecrotic toxin;Direct protein s...</td>\n      <td>ADNRRPIWNLGHMVNALKQIPTFLXDGANA</td>\n      <td>Active site (1); Chain (1); Non-terminal resid...</td>\n    </tr>\n    <tr>\n      <th>P67786</th>\n      <td>reviewed</td>\n      <td>Adipokinetic hormone (AKH) (RO II)</td>\n      <td>Romalea microptera (Eastern lubber grasshopper...</td>\n      <td>8</td>\n      <td>Amidation;Direct protein sequencing;Flight;Hor...</td>\n      <td>QVNFSTGW</td>\n      <td>Modified residue (2); Peptide (1)</td>\n    </tr>\n    <tr>\n      <th>Q9PS08</th>\n      <td>reviewed</td>\n      <td>Dendrotoxin A (DTX-A) (Fasciculin) (Fragment)</td>\n      <td>Dendroaspis angusticeps (Eastern green mamba) ...</td>\n      <td>30</td>\n      <td>Direct protein sequencing;Disulfide bond;Ion c...</td>\n      <td>TMCYSHTTTSRAILTNCGENSCYRKSRVHP</td>\n      <td>Chain (1); Disulfide bond (1); Non-terminal re...</td>\n    </tr>\n    <tr>\n      <th>P12343</th>\n      <td>reviewed</td>\n      <td>Aspartate aminotransferase, cytoplasmic (cAspA...</td>\n      <td>Oryctolagus cuniculus (Rabbit)</td>\n      <td>31</td>\n      <td>Amino-acid biosynthesis;Aminotransferase;Cytop...</td>\n      <td>MAPPSIFAEVPQAQPVLVFKLTADFREDPDP</td>\n      <td>Chain (1); Initiator methionine (1); Non-termi...</td>\n    </tr>\n    <tr>\n      <th>P0C1H0</th>\n      <td>reviewed</td>\n      <td>Equinatoxin-1 (DELTA-actitoxin) (Equinatoxin I...</td>\n      <td>Actinia equina (Beadlet anemone)</td>\n      <td>20</td>\n      <td>Cytolysis;Direct protein sequencing;Hemolysis;...</td>\n      <td>SVAVAGAVIEGASLTFNVLQ</td>\n      <td>Non-terminal residue (1); Peptide (1); Region (2)</td>\n    </tr>\n    <tr>\n      <th>...</th>\n      <td>...</td>\n      <td>...</td>\n      <td>...</td>\n      <td>...</td>\n      <td>...</td>\n      <td>...</td>\n      <td>...</td>\n    </tr>\n    <tr>\n      <th>P80628</th>\n      <td>reviewed</td>\n      <td>Unknown protein from spot 474 of 2D-PAGE of et...</td>\n      <td>Zea mays (Maize)</td>\n      <td>5</td>\n      <td>Direct protein sequencing;Reference proteome</td>\n      <td>IFFEV</td>\n      <td>Chain (1); Non-terminal residue (2)</td>\n    </tr>\n    <tr>\n      <th>P0DSK9</th>\n      <td>reviewed</td>\n      <td>U1-ectatotoxin-Eb1a subunit B (U1-ECTX-Eb1a su...</td>\n      <td>Ectatomma brunneum (Ant) (Ectatomma quadridens)</td>\n      <td>37</td>\n      <td>Direct protein sequencing;Disulfide bond;Membr...</td>\n      <td>FAIGAIIKKFGKKLVEYAVKHKDLYAPYIKKHLCEKL</td>\n      <td>Chain (1); Disulfide bond (1)</td>\n    </tr>\n    <tr>\n      <th>P85800</th>\n      <td>reviewed</td>\n      <td>Variegin</td>\n      <td>Amblyomma variegatum (Tropical bont tick)</td>\n      <td>32</td>\n      <td>3D-structure;Direct protein sequencing;Glycopr...</td>\n      <td>SDQGDVAEPKMHKTAPPFDFEAIPEEYLDDES</td>\n      <td>Glycosylation (1); Natural variant (1); Peptid...</td>\n    </tr>\n    <tr>\n      <th>P03792</th>\n      <td>reviewed</td>\n      <td>Protein 1.5 (Gene product 1.5) (Gp1.5)</td>\n      <td>Escherichia phage T7 (Bacteriophage T7)</td>\n      <td>29</td>\n      <td>Reference proteome</td>\n      <td>MMYLMPLLIVIVGCLALHCSDDDMPDGHA</td>\n      <td>Chain (1)</td>\n    </tr>\n    <tr>\n      <th>O83662</th>\n      <td>reviewed</td>\n      <td>Uncharacterized protein TP_0656</td>\n      <td>Treponema pallidum (strain Nichols)</td>\n      <td>33</td>\n      <td>Reference proteome</td>\n      <td>MRTGTRCDLGELSHPRKTLPPRGMGILCNYTGN</td>\n      <td>Chain (1)</td>\n    </tr>\n  </tbody>\n</table>\n<p>8174 rows × 7 columns</p>\n</div>"
     },
     "execution_count": 66,
     "metadata": {},
     "output_type": "execute_result"
    }
   ],
   "source": [
    "origin_negative=origin_negative.dropna(how=\"any\")\n",
    "origin_negative"
   ],
   "metadata": {
    "collapsed": false,
    "pycharm": {
     "name": "#%%\n"
    }
   }
  },
  {
   "cell_type": "markdown",
   "source": [
    "# 2. Sequence de-duplication"
   ],
   "metadata": {
    "collapsed": false
   }
  },
  {
   "cell_type": "code",
   "execution_count": 67,
   "outputs": [
    {
     "data": {
      "text/plain": "Entry\nP0C2L1           ADNRRPIWNLGHMVNALKQIPTFLXDGANA\nP67786                                 QVNFSTGW\nQ9PS08           TMCYSHTTTSRAILTNCGENSCYRKSRVHP\nP12343          MAPPSIFAEVPQAQPVLVFKLTADFREDPDP\nP0C1H0                     SVAVAGAVIEGASLTFNVLQ\n                          ...                  \nP80628                                    IFFEV\nP0DSK9    FAIGAIIKKFGKKLVEYAVKHKDLYAPYIKKHLCEKL\nP85800         SDQGDVAEPKMHKTAPPFDFEAIPEEYLDDES\nP03792            MMYLMPLLIVIVGCLALHCSDDDMPDGHA\nO83662        MRTGTRCDLGELSHPRKTLPPRGMGILCNYTGN\nName: sequence, Length: 6104, dtype: object"
     },
     "execution_count": 67,
     "metadata": {},
     "output_type": "execute_result"
    }
   ],
   "source": [
    "negative = origin_negative[\"Sequence\"].drop_duplicates()\n",
    "negative.name = \"sequence\"\n",
    "negative"
   ],
   "metadata": {
    "collapsed": false,
    "pycharm": {
     "name": "#%%\n"
    }
   }
  },
  {
   "cell_type": "markdown",
   "source": [
    "# Add customized MIC"
   ],
   "metadata": {
    "collapsed": false
   }
  },
  {
   "cell_type": "code",
   "execution_count": 68,
   "outputs": [
    {
     "data": {
      "text/plain": "                                     sequence  value\nEntry                                               \nP0C2L1         ADNRRPIWNLGHMVNALKQIPTFLXDGANA   8192\nP67786                               QVNFSTGW   8192\nQ9PS08         TMCYSHTTTSRAILTNCGENSCYRKSRVHP   8192\nP12343        MAPPSIFAEVPQAQPVLVFKLTADFREDPDP   8192\nP0C1H0                   SVAVAGAVIEGASLTFNVLQ   8192\n...                                       ...    ...\nP80628                                  IFFEV   8192\nP0DSK9  FAIGAIIKKFGKKLVEYAVKHKDLYAPYIKKHLCEKL   8192\nP85800       SDQGDVAEPKMHKTAPPFDFEAIPEEYLDDES   8192\nP03792          MMYLMPLLIVIVGCLALHCSDDDMPDGHA   8192\nO83662      MRTGTRCDLGELSHPRKTLPPRGMGILCNYTGN   8192\n\n[6104 rows x 2 columns]",
      "text/html": "<div>\n<style scoped>\n    .dataframe tbody tr th:only-of-type {\n        vertical-align: middle;\n    }\n\n    .dataframe tbody tr th {\n        vertical-align: top;\n    }\n\n    .dataframe thead th {\n        text-align: right;\n    }\n</style>\n<table border=\"1\" class=\"dataframe\">\n  <thead>\n    <tr style=\"text-align: right;\">\n      <th></th>\n      <th>sequence</th>\n      <th>value</th>\n    </tr>\n    <tr>\n      <th>Entry</th>\n      <th></th>\n      <th></th>\n    </tr>\n  </thead>\n  <tbody>\n    <tr>\n      <th>P0C2L1</th>\n      <td>ADNRRPIWNLGHMVNALKQIPTFLXDGANA</td>\n      <td>8192</td>\n    </tr>\n    <tr>\n      <th>P67786</th>\n      <td>QVNFSTGW</td>\n      <td>8192</td>\n    </tr>\n    <tr>\n      <th>Q9PS08</th>\n      <td>TMCYSHTTTSRAILTNCGENSCYRKSRVHP</td>\n      <td>8192</td>\n    </tr>\n    <tr>\n      <th>P12343</th>\n      <td>MAPPSIFAEVPQAQPVLVFKLTADFREDPDP</td>\n      <td>8192</td>\n    </tr>\n    <tr>\n      <th>P0C1H0</th>\n      <td>SVAVAGAVIEGASLTFNVLQ</td>\n      <td>8192</td>\n    </tr>\n    <tr>\n      <th>...</th>\n      <td>...</td>\n      <td>...</td>\n    </tr>\n    <tr>\n      <th>P80628</th>\n      <td>IFFEV</td>\n      <td>8192</td>\n    </tr>\n    <tr>\n      <th>P0DSK9</th>\n      <td>FAIGAIIKKFGKKLVEYAVKHKDLYAPYIKKHLCEKL</td>\n      <td>8192</td>\n    </tr>\n    <tr>\n      <th>P85800</th>\n      <td>SDQGDVAEPKMHKTAPPFDFEAIPEEYLDDES</td>\n      <td>8192</td>\n    </tr>\n    <tr>\n      <th>P03792</th>\n      <td>MMYLMPLLIVIVGCLALHCSDDDMPDGHA</td>\n      <td>8192</td>\n    </tr>\n    <tr>\n      <th>O83662</th>\n      <td>MRTGTRCDLGELSHPRKTLPPRGMGILCNYTGN</td>\n      <td>8192</td>\n    </tr>\n  </tbody>\n</table>\n<p>6104 rows × 2 columns</p>\n</div>"
     },
     "execution_count": 68,
     "metadata": {},
     "output_type": "execute_result"
    }
   ],
   "source": [
    "negative = pd.DataFrame(negative)\n",
    "negative[\"value\"] = 8192\n",
    "negative"
   ],
   "metadata": {
    "collapsed": false,
    "pycharm": {
     "name": "#%%\n"
    }
   }
  },
  {
   "cell_type": "markdown",
   "source": [
    "# Save data"
   ],
   "metadata": {
    "collapsed": false
   }
  },
  {
   "cell_type": "code",
   "execution_count": 69,
   "outputs": [],
   "source": [
    "negative.to_csv(\"../data/filtered_data/negative.csv\", index=False)"
   ],
   "metadata": {
    "collapsed": false,
    "pycharm": {
     "name": "#%%\n"
    }
   }
  }
 ],
 "metadata": {
  "kernelspec": {
   "display_name": "Python 3",
   "language": "python",
   "name": "python3"
  },
  "language_info": {
   "codemirror_mode": {
    "name": "ipython",
    "version": 2
   },
   "file_extension": ".py",
   "mimetype": "text/x-python",
   "name": "python",
   "nbconvert_exporter": "python",
   "pygments_lexer": "ipython2",
   "version": "2.7.6"
  }
 },
 "nbformat": 4,
 "nbformat_minor": 0
}